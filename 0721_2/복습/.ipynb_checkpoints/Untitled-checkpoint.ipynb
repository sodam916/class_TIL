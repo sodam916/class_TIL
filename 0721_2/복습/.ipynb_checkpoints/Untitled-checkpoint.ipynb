{
 "cells": [
  {
   "cell_type": "code",
   "execution_count": null,
   "id": "ed61cdbb",
   "metadata": {},
   "outputs": [],
   "source": [
    "def func(*arg):\n",
    "    print(type(arg))\n",
    "    print(arg)\n",
    "    \n",
    "#func()\n",
    "func(1,2, 3)\n",
    "func(*[1, 2, 3]) # 언패킹\n"
   ]
  },
  {
   "cell_type": "code",
   "execution_count": null,
   "id": "f8f9b8e5",
   "metadata": {},
   "outputs": [],
   "source": [
    "def func(first, *second):\n",
    "    print(first, second)\n",
    "    \n",
    "func(1)\n",
    "func(1, 'name', True)"
   ]
  },
  {
   "cell_type": "code",
   "execution_count": null,
   "id": "046981a6",
   "metadata": {},
   "outputs": [],
   "source": [
    "def func(**kwarg):\n",
    "    "
   ]
  },
  {
   "cell_type": "code",
   "execution_count": null,
   "id": "d58c3186",
   "metadata": {},
   "outputs": [],
   "source": [
    "# def func(기본위치인자, 가변인자, 키워드 가변인자)\n",
    "\n"
   ]
  },
  {
   "cell_type": "code",
   "execution_count": null,
   "id": "e39931eb",
   "metadata": {},
   "outputs": [],
   "source": []
  },
  {
   "cell_type": "code",
   "execution_count": null,
   "id": "e2e2b2d1",
   "metadata": {},
   "outputs": [],
   "source": [
    "#재귀 = 반복하는 것 >> 원하는 만큼 반복하고 종료\n",
    "\n",
    "#재귀적 정의를 구현할 때 재귀함수로 구현이 용이\n",
    "#재귀적 정의 : 부분 문제간의 관계를 이용\n",
    "#문제간의 관계는 작은 문제와 좀 더 큰 문제의관계\n",
    "#문제들 사이의 관계를 정의 > 점화식으로 표현\n",
    "\n",
    "#재귀함수 구현 시 매개변수는 문제의 크기를 표현하는 값\n",
    "\n",
    "\n",
    "\n",
    "#기저사례 : 가장 작은 문제\n",
    "#유도사례 : 일반적인 경우\n",
    "\n",
    "def func(n):\n",
    "    if  #기저사례일 경우\n",
    "        return\n",
    "    else:\n",
    "        return func(n - 1) * n\n"
   ]
  },
  {
   "cell_type": "code",
   "execution_count": 4,
   "id": "aee3acf7",
   "metadata": {},
   "outputs": [
    {
     "name": "stdout",
     "output_type": "stream",
     "text": [
      "3 Hello\n",
      "2 Hello\n",
      "1 Hello\n",
      "end\n",
      "1 Hello\n",
      "2 Hello\n",
      "3 Hello\n"
     ]
    }
   ],
   "source": [
    "#for i in range(3):\n",
    "#    pirnt('hello')\n",
    "    \n",
    "def printHello(i):\n",
    "    if i == 0:\n",
    "        print('end')\n",
    "    else:\n",
    "        print(i, 'Hello')\n",
    "        printHello(i - 1)\n",
    "        print(i, 'Hello')\n",
    "        \n",
    "printHello(3)"
   ]
  },
  {
   "cell_type": "code",
   "execution_count": 7,
   "id": "e121aa8f",
   "metadata": {},
   "outputs": [
    {
     "name": "stdout",
     "output_type": "stream",
     "text": [
      "(4, 5, 1, 3, 8, 6, 7, 2)\n"
     ]
    },
    {
     "data": {
      "text/plain": [
       "8"
      ]
     },
     "execution_count": 7,
     "metadata": {},
     "output_type": "execute_result"
    }
   ],
   "source": [
    "def my_max(*args):\n",
    "    print(args)\n",
    "    max_val = args[0]\n",
    "    \n",
    "    \n",
    "    for val in args:\n",
    "        if max_val < val:\n",
    "            max_val = val\n",
    "            \n",
    "    return max_val\n",
    "        \n",
    "    \n",
    "my_max(4, 5, 1, 3, 8, 6, 7, 2)\n"
   ]
  },
  {
   "cell_type": "code",
   "execution_count": null,
   "id": "0a93f11a",
   "metadata": {},
   "outputs": [],
   "source": []
  },
  {
   "cell_type": "code",
   "execution_count": null,
   "id": "9c66c399",
   "metadata": {},
   "outputs": [],
   "source": []
  }
 ],
 "metadata": {
  "kernelspec": {
   "display_name": "Python 3 (ipykernel)",
   "language": "python",
   "name": "python3"
  },
  "language_info": {
   "codemirror_mode": {
    "name": "ipython",
    "version": 3
   },
   "file_extension": ".py",
   "mimetype": "text/x-python",
   "name": "python",
   "nbconvert_exporter": "python",
   "pygments_lexer": "ipython3",
   "version": "3.9.13"
  },
  "toc": {
   "base_numbering": 1,
   "nav_menu": {},
   "number_sections": true,
   "sideBar": true,
   "skip_h1_title": false,
   "title_cell": "Table of Contents",
   "title_sidebar": "Contents",
   "toc_cell": false,
   "toc_position": {},
   "toc_section_display": true,
   "toc_window_display": false
  }
 },
 "nbformat": 4,
 "nbformat_minor": 5
}
